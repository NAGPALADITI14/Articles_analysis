{
  "nbformat": 4,
  "nbformat_minor": 0,
  "metadata": {
    "colab": {
      "provenance": [],
      "authorship_tag": "ABX9TyM/wRu0kZ8KdWPPpJFpKF4h",
      "include_colab_link": true
    },
    "kernelspec": {
      "name": "python3",
      "display_name": "Python 3"
    },
    "language_info": {
      "name": "python"
    }
  },
  "cells": [
    {
      "cell_type": "markdown",
      "metadata": {
        "id": "view-in-github",
        "colab_type": "text"
      },
      "source": [
        "<a href=\"https://colab.research.google.com/github/NAGPALADITI14/Articles_analysis/blob/main/Articles_analysis.ipynb\" target=\"_parent\"><img src=\"https://colab.research.google.com/assets/colab-badge.svg\" alt=\"Open In Colab\"/></a>"
      ]
    },
    {
      "cell_type": "code",
      "execution_count": null,
      "metadata": {
        "id": "D_VKeVmfDClI",
        "colab": {
          "base_uri": "https://localhost:8080/",
          "height": 90
        },
        "outputId": "a2d99d85-2395-4c8f-94b5-83e49207c8da"
      },
      "outputs": [
        {
          "output_type": "display_data",
          "data": {
            "text/plain": [
              "<IPython.core.display.HTML object>"
            ],
            "text/html": [
              "\n",
              "     <input type=\"file\" id=\"files-34aff47a-a8b6-408a-a239-df9050379f06\" name=\"files[]\" multiple disabled\n",
              "        style=\"border:none\" />\n",
              "     <output id=\"result-34aff47a-a8b6-408a-a239-df9050379f06\">\n",
              "      Upload widget is only available when the cell has been executed in the\n",
              "      current browser session. Please rerun this cell to enable.\n",
              "      </output>\n",
              "      <script>// Copyright 2017 Google LLC\n",
              "//\n",
              "// Licensed under the Apache License, Version 2.0 (the \"License\");\n",
              "// you may not use this file except in compliance with the License.\n",
              "// You may obtain a copy of the License at\n",
              "//\n",
              "//      http://www.apache.org/licenses/LICENSE-2.0\n",
              "//\n",
              "// Unless required by applicable law or agreed to in writing, software\n",
              "// distributed under the License is distributed on an \"AS IS\" BASIS,\n",
              "// WITHOUT WARRANTIES OR CONDITIONS OF ANY KIND, either express or implied.\n",
              "// See the License for the specific language governing permissions and\n",
              "// limitations under the License.\n",
              "\n",
              "/**\n",
              " * @fileoverview Helpers for google.colab Python module.\n",
              " */\n",
              "(function(scope) {\n",
              "function span(text, styleAttributes = {}) {\n",
              "  const element = document.createElement('span');\n",
              "  element.textContent = text;\n",
              "  for (const key of Object.keys(styleAttributes)) {\n",
              "    element.style[key] = styleAttributes[key];\n",
              "  }\n",
              "  return element;\n",
              "}\n",
              "\n",
              "// Max number of bytes which will be uploaded at a time.\n",
              "const MAX_PAYLOAD_SIZE = 100 * 1024;\n",
              "\n",
              "function _uploadFiles(inputId, outputId) {\n",
              "  const steps = uploadFilesStep(inputId, outputId);\n",
              "  const outputElement = document.getElementById(outputId);\n",
              "  // Cache steps on the outputElement to make it available for the next call\n",
              "  // to uploadFilesContinue from Python.\n",
              "  outputElement.steps = steps;\n",
              "\n",
              "  return _uploadFilesContinue(outputId);\n",
              "}\n",
              "\n",
              "// This is roughly an async generator (not supported in the browser yet),\n",
              "// where there are multiple asynchronous steps and the Python side is going\n",
              "// to poll for completion of each step.\n",
              "// This uses a Promise to block the python side on completion of each step,\n",
              "// then passes the result of the previous step as the input to the next step.\n",
              "function _uploadFilesContinue(outputId) {\n",
              "  const outputElement = document.getElementById(outputId);\n",
              "  const steps = outputElement.steps;\n",
              "\n",
              "  const next = steps.next(outputElement.lastPromiseValue);\n",
              "  return Promise.resolve(next.value.promise).then((value) => {\n",
              "    // Cache the last promise value to make it available to the next\n",
              "    // step of the generator.\n",
              "    outputElement.lastPromiseValue = value;\n",
              "    return next.value.response;\n",
              "  });\n",
              "}\n",
              "\n",
              "/**\n",
              " * Generator function which is called between each async step of the upload\n",
              " * process.\n",
              " * @param {string} inputId Element ID of the input file picker element.\n",
              " * @param {string} outputId Element ID of the output display.\n",
              " * @return {!Iterable<!Object>} Iterable of next steps.\n",
              " */\n",
              "function* uploadFilesStep(inputId, outputId) {\n",
              "  const inputElement = document.getElementById(inputId);\n",
              "  inputElement.disabled = false;\n",
              "\n",
              "  const outputElement = document.getElementById(outputId);\n",
              "  outputElement.innerHTML = '';\n",
              "\n",
              "  const pickedPromise = new Promise((resolve) => {\n",
              "    inputElement.addEventListener('change', (e) => {\n",
              "      resolve(e.target.files);\n",
              "    });\n",
              "  });\n",
              "\n",
              "  const cancel = document.createElement('button');\n",
              "  inputElement.parentElement.appendChild(cancel);\n",
              "  cancel.textContent = 'Cancel upload';\n",
              "  const cancelPromise = new Promise((resolve) => {\n",
              "    cancel.onclick = () => {\n",
              "      resolve(null);\n",
              "    };\n",
              "  });\n",
              "\n",
              "  // Wait for the user to pick the files.\n",
              "  const files = yield {\n",
              "    promise: Promise.race([pickedPromise, cancelPromise]),\n",
              "    response: {\n",
              "      action: 'starting',\n",
              "    }\n",
              "  };\n",
              "\n",
              "  cancel.remove();\n",
              "\n",
              "  // Disable the input element since further picks are not allowed.\n",
              "  inputElement.disabled = true;\n",
              "\n",
              "  if (!files) {\n",
              "    return {\n",
              "      response: {\n",
              "        action: 'complete',\n",
              "      }\n",
              "    };\n",
              "  }\n",
              "\n",
              "  for (const file of files) {\n",
              "    const li = document.createElement('li');\n",
              "    li.append(span(file.name, {fontWeight: 'bold'}));\n",
              "    li.append(span(\n",
              "        `(${file.type || 'n/a'}) - ${file.size} bytes, ` +\n",
              "        `last modified: ${\n",
              "            file.lastModifiedDate ? file.lastModifiedDate.toLocaleDateString() :\n",
              "                                    'n/a'} - `));\n",
              "    const percent = span('0% done');\n",
              "    li.appendChild(percent);\n",
              "\n",
              "    outputElement.appendChild(li);\n",
              "\n",
              "    const fileDataPromise = new Promise((resolve) => {\n",
              "      const reader = new FileReader();\n",
              "      reader.onload = (e) => {\n",
              "        resolve(e.target.result);\n",
              "      };\n",
              "      reader.readAsArrayBuffer(file);\n",
              "    });\n",
              "    // Wait for the data to be ready.\n",
              "    let fileData = yield {\n",
              "      promise: fileDataPromise,\n",
              "      response: {\n",
              "        action: 'continue',\n",
              "      }\n",
              "    };\n",
              "\n",
              "    // Use a chunked sending to avoid message size limits. See b/62115660.\n",
              "    let position = 0;\n",
              "    do {\n",
              "      const length = Math.min(fileData.byteLength - position, MAX_PAYLOAD_SIZE);\n",
              "      const chunk = new Uint8Array(fileData, position, length);\n",
              "      position += length;\n",
              "\n",
              "      const base64 = btoa(String.fromCharCode.apply(null, chunk));\n",
              "      yield {\n",
              "        response: {\n",
              "          action: 'append',\n",
              "          file: file.name,\n",
              "          data: base64,\n",
              "        },\n",
              "      };\n",
              "\n",
              "      let percentDone = fileData.byteLength === 0 ?\n",
              "          100 :\n",
              "          Math.round((position / fileData.byteLength) * 100);\n",
              "      percent.textContent = `${percentDone}% done`;\n",
              "\n",
              "    } while (position < fileData.byteLength);\n",
              "  }\n",
              "\n",
              "  // All done.\n",
              "  yield {\n",
              "    response: {\n",
              "      action: 'complete',\n",
              "    }\n",
              "  };\n",
              "}\n",
              "\n",
              "scope.google = scope.google || {};\n",
              "scope.google.colab = scope.google.colab || {};\n",
              "scope.google.colab._files = {\n",
              "  _uploadFiles,\n",
              "  _uploadFilesContinue,\n",
              "};\n",
              "})(self);\n",
              "</script> "
            ]
          },
          "metadata": {}
        },
        {
          "output_type": "stream",
          "name": "stdout",
          "text": [
            "Saving 20211030TestAssignment-20241231T052758Z-001.zip to 20211030TestAssignment-20241231T052758Z-001.zip\n"
          ]
        }
      ],
      "source": [
        "from google.colab import files\n",
        "uploaded = files.upload()"
      ]
    },
    {
      "cell_type": "code",
      "source": [
        "from google.colab import drive\n",
        "drive.mount('/content/drive')"
      ],
      "metadata": {
        "colab": {
          "base_uri": "https://localhost:8080/"
        },
        "id": "AZkmPx7SNKen",
        "outputId": "f312bf08-01c8-421f-cd02-a0a435fb010a"
      },
      "execution_count": null,
      "outputs": [
        {
          "output_type": "stream",
          "name": "stdout",
          "text": [
            "Mounted at /content/drive\n"
          ]
        }
      ]
    },
    {
      "cell_type": "markdown",
      "source": [
        "In order to unzip the folder kindly remove the spaces from the foldername"
      ],
      "metadata": {
        "id": "ZvQm6kq2NoBB"
      }
    },
    {
      "cell_type": "code",
      "source": [
        "!unzip /content/20211030TestAssignment-20241231T052758Z-001.zip"
      ],
      "metadata": {
        "id": "iFhA0vqtLZ_C",
        "colab": {
          "base_uri": "https://localhost:8080/"
        },
        "outputId": "4cd52cb6-2081-4a2d-a68b-c47c2c4e3729"
      },
      "execution_count": null,
      "outputs": [
        {
          "output_type": "stream",
          "name": "stdout",
          "text": [
            "Archive:  /content/20211030TestAssignment-20241231T052758Z-001.zip\n",
            "  inflating: 20211030 Test Assignment/MasterDictionary/negative-words.txt  \n",
            "  inflating: 20211030 Test Assignment/StopWords/StopWords_DatesandNumbers.txt  \n",
            "  inflating: 20211030 Test Assignment/Output Data Structure.xlsx  \n",
            "  inflating: 20211030 Test Assignment/MasterDictionary/positive-words.txt  \n",
            "  inflating: 20211030 Test Assignment/StopWords/StopWords_Geographic.txt  \n",
            "  inflating: 20211030 Test Assignment/Input.xlsx  \n",
            "  inflating: 20211030 Test Assignment/StopWords/StopWords_Auditor.txt  \n",
            "  inflating: 20211030 Test Assignment/StopWords/StopWords_Currencies.txt  \n",
            "  inflating: 20211030 Test Assignment/StopWords/StopWords_Generic.txt  \n",
            "  inflating: 20211030 Test Assignment/Objective.docx  \n",
            "  inflating: 20211030 Test Assignment/Text Analysis.docx  \n",
            "  inflating: 20211030 Test Assignment/StopWords/StopWords_GenericLong.txt  \n",
            "  inflating: 20211030 Test Assignment/StopWords/StopWords_Names.txt  \n"
          ]
        }
      ]
    },
    {
      "cell_type": "code",
      "source": [
        "import pandas as pd\n",
        "import requests\n",
        "from bs4 import BeautifulSoup\n",
        "import os\n",
        "import re\n",
        "from nltk.tokenize import sent_tokenize,word_tokenize\n",
        "import chardet"
      ],
      "metadata": {
        "id": "63CcCEfTMJ5q"
      },
      "execution_count": null,
      "outputs": []
    },
    {
      "cell_type": "code",
      "source": [
        "pip install textstat"
      ],
      "metadata": {
        "colab": {
          "base_uri": "https://localhost:8080/"
        },
        "id": "jWkxNX_EOjSj",
        "outputId": "66ad354a-e065-4b7e-bfcf-8fd2d8b83eb3"
      },
      "execution_count": null,
      "outputs": [
        {
          "output_type": "stream",
          "name": "stdout",
          "text": [
            "Collecting textstat\n",
            "  Downloading textstat-0.7.4-py3-none-any.whl.metadata (14 kB)\n",
            "Collecting pyphen (from textstat)\n",
            "  Downloading pyphen-0.17.0-py3-none-any.whl.metadata (3.2 kB)\n",
            "Requirement already satisfied: setuptools in /usr/local/lib/python3.10/dist-packages (from textstat) (75.1.0)\n",
            "Downloading textstat-0.7.4-py3-none-any.whl (105 kB)\n",
            "\u001b[2K   \u001b[90m━━━━━━━━━━━━━━━━━━━━━━━━━━━━━━━━━━━━━━━━\u001b[0m \u001b[32m105.1/105.1 kB\u001b[0m \u001b[31m2.6 MB/s\u001b[0m eta \u001b[36m0:00:00\u001b[0m\n",
            "\u001b[?25hDownloading pyphen-0.17.0-py3-none-any.whl (2.1 MB)\n",
            "\u001b[2K   \u001b[90m━━━━━━━━━━━━━━━━━━━━━━━━━━━━━━━━━━━━━━━━\u001b[0m \u001b[32m2.1/2.1 MB\u001b[0m \u001b[31m28.5 MB/s\u001b[0m eta \u001b[36m0:00:00\u001b[0m\n",
            "\u001b[?25hInstalling collected packages: pyphen, textstat\n",
            "Successfully installed pyphen-0.17.0 textstat-0.7.4\n"
          ]
        }
      ]
    },
    {
      "cell_type": "code",
      "source": [
        "from textstat import syllable_count"
      ],
      "metadata": {
        "id": "UupLxTFyOx2x"
      },
      "execution_count": null,
      "outputs": []
    },
    {
      "cell_type": "code",
      "source": [
        "def extract_articles(input_file,output_dir):\n",
        "  df=pd.read_excel(input_file)\n",
        "  if not os.path.exists(output_dir):\n",
        "    os.makedirs(output_dir)\n",
        "\n",
        "  for _, row in df.iterrows():\n",
        "    url_id = row['URL_ID']\n",
        "    url = row['URL']\n",
        "    try:\n",
        "      response = requests.get(url)\n",
        "      soup=BeautifulSoup(response.content,'html.parser')\n",
        "\n",
        "      title = soup.find('h1',class_='entry-title').get_text(strip=True)\n",
        "      # print(\"Title : \",title)\n",
        "\n",
        "      text_content = ' '.join([div.get_text(strip=True) for div in soup.find_all('div',class_='td-post-content tagdiv-type')])\n",
        "      with open(f\"{output_dir}/{url_id}.txt\", \"w\", encoding=\"utf-8\") as file:\n",
        "                file.write(title + \"\\n\\n\" + text_content)\n",
        "\n",
        "    except Exception as e:\n",
        "            print(f\"Failed to process URL_ID {url_id}: {e}\")"
      ],
      "metadata": {
        "id": "ELTDifrHO2s8"
      },
      "execution_count": null,
      "outputs": []
    },
    {
      "cell_type": "code",
      "source": [
        "def load_word_list(file_path):\n",
        "\n",
        "    with open(file_path, 'rb') as file:\n",
        "        raw_data = file.read()\n",
        "        detected = chardet.detect(raw_data)\n",
        "        encoding = detected.get('encoding', 'utf-8')\n",
        "        # print(f\"Detected encoding for {file_path}: {encoding}\")\n",
        "    with open(file_path, 'r', encoding=encoding , errors= 'replace') as file:\n",
        "        words = {line.strip().lower() for line in file if line.strip()}\n",
        "    return words\n",
        "\n",
        "def load_multiple_word_lists(directory_path):\n",
        "    combined_words = set()\n",
        "    for file_name in os.listdir(directory_path):\n",
        "        file_path = os.path.join(directory_path, file_name)\n",
        "        if os.path.isfile(file_path) and file_name.endswith('.txt'):\n",
        "            with open(file_path, 'rb') as f:\n",
        "                raw_data = f.read()\n",
        "                detected = chardet.detect(raw_data)\n",
        "                encoding = detected.get('encoding', 'utf-8')\n",
        "            try:\n",
        "              with open(file_path, 'r', encoding='utf-8',errors='replace') as file:\n",
        "                  combined_words.update({line.strip().lower() for line in file if line.strip()})\n",
        "            except Exception as e:\n",
        "                print(f\"Error reading file {file_name}: {e}\")\n",
        "    return combined_words"
      ],
      "metadata": {
        "id": "qiCjXCYvhC1L"
      },
      "execution_count": null,
      "outputs": []
    },
    {
      "cell_type": "code",
      "source": [
        "positive_words = load_word_list('/content/20211030TestAssignment/MasterDictionary/positive-words.txt')\n",
        "negative_words = load_word_list('/content/20211030TestAssignment/MasterDictionary/negative-words.txt')\n",
        "stop_words = load_multiple_word_lists('/content/20211030TestAssignment/StopWords')\n",
        "\n",
        "df=pd.read_excel('/content/20211030TestAssignment/Input.xlsx')\n",
        "url_mapping= dict(zip(df['URL_ID'],df['URL']))\n",
        "\n",
        "\n",
        "def analyze_text(file_path):\n",
        "  with open(file_path,'r',encoding='utf-8') as file:\n",
        "    text = file.read()\n",
        "\n",
        "  file_name = os.path.basename(file_path)\n",
        "  URL_ID = file_name.split('.')[0]\n",
        "  URL = url_mapping.get(URL_ID,None)\n",
        "\n",
        "  words = word_tokenize(text.lower())\n",
        "  cleaned_words = [word for word in words if word.isalpha() and word not in stop_words]\n",
        "\n",
        "  positive_score = sum(1 for word in cleaned_words if word in positive_words)\n",
        "  negative_score = sum(-1 for word in cleaned_words if word in negative_words)\n",
        "  negative_score = -1 * negative_score\n",
        "\n",
        "  polarity_score = (positive_score - negative_score)/((positive_score + negative_score) + 0.000001)\n",
        "  subjectivity_score = (positive_score + negative_score)/(len(cleaned_words) + 0.000001)\n",
        "\n",
        "  sentences = sent_tokenize(text)\n",
        "  num_sentences = len(sentences)\n",
        "\n",
        "  num_words = len(cleaned_words)\n",
        "  avg_words_per_sentence = num_words / num_sentences if num_sentences > 0 else 0\n",
        "\n",
        "  avg_sentence_length = num_words / num_sentences if num_sentences > 0 else 0\n",
        "\n",
        "  complex_words = [word for word in cleaned_words if syllable_count(word)>=2]\n",
        "  percent_complex_words = (len(complex_words)/num_words) * 100\n",
        "\n",
        "  fog_index = 0.4 * (avg_sentence_length + percent_complex_words)\n",
        "\n",
        "  syllables_per_word = sum(syllable_count(word) for word in cleaned_words) / num_words if num_words > 0 else 0\n",
        "  avg_word_length = sum(len(word) for word in cleaned_words) / num_words if num_words > 0 else 0\n",
        "  personal_pronouns = len(re.findall(r'\\b(I|we|my|ours|us)\\b', text, flags=re.I))\n",
        "\n",
        "  return {\n",
        "        'URL_ID' : URL_ID,\n",
        "        'URL' : URL,\n",
        "        'POSITIVE SCORE': positive_score,\n",
        "        'NEGATIVE SCORE': negative_score,\n",
        "        'POLARITY SCORE': polarity_score,\n",
        "        'SUBJECTIVITY SCORE': subjectivity_score,\n",
        "        'AVG SENTENCE LENGTH': avg_sentence_length,\n",
        "        'PERCENTAGE OF COMPLEX WORD': percent_complex_words,\n",
        "        'FOG INDEX': fog_index,\n",
        "        'AVG NUMBER OF WORDS PER SENTENCE':avg_words_per_sentence,\n",
        "        'COMPLEX WORD COUNT': len(complex_words),\n",
        "        'WORD COUNT': num_words,\n",
        "        'SYLLABLE PER WORD': syllables_per_word,\n",
        "        'PERSONAL PRONOUNS': personal_pronouns,\n",
        "        'AVG WORD LENGTH': avg_word_length\n",
        "    }\n"
      ],
      "metadata": {
        "id": "eTBNREtv9zce"
      },
      "execution_count": null,
      "outputs": []
    },
    {
      "cell_type": "code",
      "source": [
        "def analyze_articles(input_excel_sheet,input_dir, output_file):\n",
        "    df = pd.read_excel(input_excel_sheet)\n",
        "    data = []\n",
        "    for index, row in df.iterrows():\n",
        "        file_path = os.path.join(input_dir,f\"{row['URL_ID']}.txt\")\n",
        "        try:\n",
        "            result = analyze_text(file_path)\n",
        "            result['URL_ID'] = row['URL_ID']\n",
        "            result['URL']    = row['URL']\n",
        "            data.append(result)\n",
        "        except Exception as e:\n",
        "            print(f\"Error processing {file_path}: {e}\")\n",
        "            continue\n",
        "\n",
        "    if data:\n",
        "        df_output = pd.DataFrame(data)\n",
        "        df_output.to_excel(output_file, index=False)\n",
        "    else:\n",
        "        print(\"No data to write to Excel.\")\n"
      ],
      "metadata": {
        "id": "pUXP_eiOJjoA"
      },
      "execution_count": null,
      "outputs": []
    },
    {
      "cell_type": "code",
      "source": [
        "import nltk\n",
        "nltk.download('punkt_tab')"
      ],
      "metadata": {
        "id": "zIla9skPQQNP",
        "colab": {
          "base_uri": "https://localhost:8080/"
        },
        "outputId": "27f8d393-12b7-4fee-e40a-e9a040c959a8"
      },
      "execution_count": null,
      "outputs": [
        {
          "output_type": "stream",
          "name": "stderr",
          "text": [
            "[nltk_data] Downloading package punkt_tab to /root/nltk_data...\n",
            "[nltk_data]   Package punkt_tab is already up-to-date!\n"
          ]
        },
        {
          "output_type": "execute_result",
          "data": {
            "text/plain": [
              "True"
            ]
          },
          "metadata": {},
          "execution_count": 22
        }
      ]
    },
    {
      "cell_type": "code",
      "source": [
        "if __name__ == \"__main__\":\n",
        "  input_file = '/content/20211030TestAssignment/Input.xlsx'\n",
        "  output_dir = '/content/20211030TestAssignment/extracted_text_files'\n",
        "  output_file = '/content/20211030TestAssignment/OutputDataStructure.xlsx'\n",
        "  input_excel_file = '/content/20211030TestAssignment/OutputDataStructure.xlsx'\n",
        "  print(\"EXTRACTING ARTICLES....\")\n",
        "  extract_articles(input_file,output_dir)\n",
        "\n",
        "  print(\"Analyzing articles...\")\n",
        "  analyze_articles(output_file,output_dir, output_file)\n",
        "\n",
        "  print(\"Processing complete. Results saved in Output_Data_Structure.xlsx.\")"
      ],
      "metadata": {
        "colab": {
          "base_uri": "https://localhost:8080/"
        },
        "id": "McmQH7BIUFj2",
        "outputId": "0e1aa693-3ec5-425c-f8b9-79a46d611038"
      },
      "execution_count": null,
      "outputs": [
        {
          "output_type": "stream",
          "name": "stdout",
          "text": [
            "EXTRACTING ARTICLES....\n",
            "Analyzing articles...\n",
            "Processing complete. Results saved in Output_Data_Structure.xlsx.\n"
          ]
        }
      ]
    },
    {
      "cell_type": "code",
      "source": [],
      "metadata": {
        "id": "KneqPO9zRVrg"
      },
      "execution_count": null,
      "outputs": []
    }
  ]
}